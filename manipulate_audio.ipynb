{
 "cells": [
  {
   "cell_type": "code",
   "execution_count": 115,
   "metadata": {
    "colab": {
     "base_uri": "https://localhost:8080/"
    },
    "id": "iHkWQLlky29v",
    "outputId": "1d9d497b-95a6-487c-f1b8-872eb1ce110d"
   },
   "outputs": [
    {
     "name": "stdout",
     "output_type": "stream",
     "text": [
      "Requirement already satisfied: pydub in c:\\users\\dell\\anaconda3\\lib\\site-packages (0.25.1)Note: you may need to restart the kernel to use updated packages.\n",
      "\n"
     ]
    },
    {
     "name": "stderr",
     "output_type": "stream",
     "text": [
      "\n",
      "[notice] A new release of pip available: 22.3.1 -> 23.0.1\n",
      "[notice] To update, run: python.exe -m pip install --upgrade pip\n"
     ]
    }
   ],
   "source": [
    "pip install pydub"
   ]
  },
  {
   "cell_type": "code",
   "execution_count": 116,
   "metadata": {
    "colab": {
     "base_uri": "https://localhost:8080/"
    },
    "id": "ZmsDLQR4zKX3",
    "outputId": "817f5198-5dad-45bb-ef9f-75ceefc6081d"
   },
   "outputs": [
    {
     "name": "stdout",
     "output_type": "stream",
     "text": [
      "Requirement already satisfied: imageio-ffmpeg in c:\\users\\dell\\anaconda3\\lib\\site-packages (0.4.7)\n",
      "Note: you may need to restart the kernel to use updated packages.\n"
     ]
    },
    {
     "name": "stderr",
     "output_type": "stream",
     "text": [
      "\n",
      "[notice] A new release of pip available: 22.3.1 -> 23.0.1\n",
      "[notice] To update, run: python.exe -m pip install --upgrade pip\n"
     ]
    }
   ],
   "source": [
    "pip install imageio-ffmpeg"
   ]
  },
  {
   "cell_type": "code",
   "execution_count": 117,
   "metadata": {
    "colab": {
     "base_uri": "https://localhost:8080/"
    },
    "id": "Wdv5wSRNy9m_",
    "outputId": "a139bcdc-eacd-4bb2-d358-185d69b79eb6"
   },
   "outputs": [
    {
     "name": "stdout",
     "output_type": "stream",
     "text": [
      "Requirement already satisfied: moviepy in c:\\users\\dell\\anaconda3\\lib\\site-packages (1.0.3)"
     ]
    },
    {
     "name": "stderr",
     "output_type": "stream",
     "text": [
      "ERROR: Exception:\n",
      "Traceback (most recent call last):\n",
      "  File \"C:\\Users\\DELL\\AppData\\Roaming\\Python\\Python38\\site-packages\\pip\\_vendor\\urllib3\\response.py\", line 437, in _error_catcher\n",
      "    yield\n",
      "  File \"C:\\Users\\DELL\\AppData\\Roaming\\Python\\Python38\\site-packages\\pip\\_vendor\\urllib3\\response.py\", line 560, in read\n",
      "    data = self._fp_read(amt) if not fp_closed else b\"\"\n",
      "  File \"C:\\Users\\DELL\\AppData\\Roaming\\Python\\Python38\\site-packages\\pip\\_vendor\\urllib3\\response.py\", line 526, in _fp_read\n",
      "    return self._fp.read(amt) if amt is not None else self._fp.read()\n",
      "  File \"C:\\Users\\DELL\\AppData\\Roaming\\Python\\Python38\\site-packages\\pip\\_vendor\\cachecontrol\\filewrapper.py\", line 90, in read\n",
      "    data = self.__fp.read(amt)\n",
      "  File \"C:\\Users\\DELL\\anaconda3\\lib\\http\\client.py\", line 458, in read\n",
      "    n = self.readinto(b)\n",
      "  File \"C:\\Users\\DELL\\anaconda3\\lib\\http\\client.py\", line 502, in readinto\n",
      "    n = self.fp.readinto(b)\n",
      "  File \"C:\\Users\\DELL\\anaconda3\\lib\\socket.py\", line 669, in readinto\n",
      "    return self._sock.recv_into(b)\n",
      "  File \"C:\\Users\\DELL\\anaconda3\\lib\\ssl.py\", line 1241, in recv_into\n",
      "    return self.read(nbytes, buffer)\n",
      "  File \"C:\\Users\\DELL\\anaconda3\\lib\\ssl.py\", line 1099, in read\n",
      "    return self._sslobj.read(len, buffer)\n",
      "ConnectionResetError: [WinError 10054] An existing connection was forcibly closed by the remote host\n",
      "\n",
      "During handling of the above exception, another exception occurred:\n",
      "\n",
      "Traceback (most recent call last):\n",
      "  File \"C:\\Users\\DELL\\AppData\\Roaming\\Python\\Python38\\site-packages\\pip\\_internal\\cli\\base_command.py\", line 160, in exc_logging_wrapper\n",
      "    status = run_func(*args)\n",
      "  File \"C:\\Users\\DELL\\AppData\\Roaming\\Python\\Python38\\site-packages\\pip\\_internal\\cli\\req_command.py\", line 247, in wrapper\n",
      "    return func(self, options, args)\n",
      "  File \"C:\\Users\\DELL\\AppData\\Roaming\\Python\\Python38\\site-packages\\pip\\_internal\\commands\\install.py\", line 400, in run\n",
      "    requirement_set = resolver.resolve(\n",
      "  File \"C:\\Users\\DELL\\AppData\\Roaming\\Python\\Python38\\site-packages\\pip\\_internal\\resolution\\resolvelib\\resolver.py\", line 92, in resolve\n",
      "    result = self._result = resolver.resolve(\n",
      "  File \"C:\\Users\\DELL\\AppData\\Roaming\\Python\\Python38\\site-packages\\pip\\_vendor\\resolvelib\\resolvers.py\", line 481, in resolve\n",
      "    state = resolution.resolve(requirements, max_rounds=max_rounds)\n",
      "  File \"C:\\Users\\DELL\\AppData\\Roaming\\Python\\Python38\\site-packages\\pip\\_vendor\\resolvelib\\resolvers.py\", line 373, in resolve\n",
      "    failure_causes = self._attempt_to_pin_criterion(name)\n",
      "  File \"C:\\Users\\DELL\\AppData\\Roaming\\Python\\Python38\\site-packages\\pip\\_vendor\\resolvelib\\resolvers.py\", line 213, in _attempt_to_pin_criterion\n",
      "    criteria = self._get_updated_criteria(candidate)\n",
      "  File \"C:\\Users\\DELL\\AppData\\Roaming\\Python\\Python38\\site-packages\\pip\\_vendor\\resolvelib\\resolvers.py\", line 204, in _get_updated_criteria\n",
      "    self._add_to_criteria(criteria, requirement, parent=candidate)\n",
      "  File \"C:\\Users\\DELL\\AppData\\Roaming\\Python\\Python38\\site-packages\\pip\\_vendor\\resolvelib\\resolvers.py\", line 172, in _add_to_criteria\n",
      "    if not criterion.candidates:\n",
      "  File \"C:\\Users\\DELL\\AppData\\Roaming\\Python\\Python38\\site-packages\\pip\\_vendor\\resolvelib\\structs.py\", line 151, in __bool__\n",
      "    return bool(self._sequence)\n",
      "  File \"C:\\Users\\DELL\\AppData\\Roaming\\Python\\Python38\\site-packages\\pip\\_internal\\resolution\\resolvelib\\found_candidates.py\", line 155, in __bool__\n",
      "    return any(self)\n",
      "  File \"C:\\Users\\DELL\\AppData\\Roaming\\Python\\Python38\\site-packages\\pip\\_internal\\resolution\\resolvelib\\found_candidates.py\", line 143, in <genexpr>\n",
      "    return (c for c in iterator if id(c) not in self._incompatible_ids)\n",
      "  File \"C:\\Users\\DELL\\AppData\\Roaming\\Python\\Python38\\site-packages\\pip\\_internal\\resolution\\resolvelib\\found_candidates.py\", line 47, in _iter_built\n",
      "    candidate = func()\n",
      "  File \"C:\\Users\\DELL\\AppData\\Roaming\\Python\\Python38\\site-packages\\pip\\_internal\\resolution\\resolvelib\\factory.py\", line 206, in _make_candidate_from_link\n",
      "    self._link_candidate_cache[link] = LinkCandidate(\n",
      "  File \"C:\\Users\\DELL\\AppData\\Roaming\\Python\\Python38\\site-packages\\pip\\_internal\\resolution\\resolvelib\\candidates.py\", line 297, in __init__\n",
      "    super().__init__(\n",
      "  File \"C:\\Users\\DELL\\AppData\\Roaming\\Python\\Python38\\site-packages\\pip\\_internal\\resolution\\resolvelib\\candidates.py\", line 162, in __init__\n",
      "    self.dist = self._prepare()\n",
      "  File \"C:\\Users\\DELL\\AppData\\Roaming\\Python\\Python38\\site-packages\\pip\\_internal\\resolution\\resolvelib\\candidates.py\", line 231, in _prepare\n",
      "    dist = self._prepare_distribution()\n",
      "  File \"C:\\Users\\DELL\\AppData\\Roaming\\Python\\Python38\\site-packages\\pip\\_internal\\resolution\\resolvelib\\candidates.py\", line 308, in _prepare_distribution\n",
      "    return preparer.prepare_linked_requirement(self._ireq, parallel_builds=True)\n",
      "  File \"C:\\Users\\DELL\\AppData\\Roaming\\Python\\Python38\\site-packages\\pip\\_internal\\operations\\prepare.py\", line 491, in prepare_linked_requirement\n",
      "    return self._prepare_linked_requirement(req, parallel_builds)\n",
      "  File \"C:\\Users\\DELL\\AppData\\Roaming\\Python\\Python38\\site-packages\\pip\\_internal\\operations\\prepare.py\", line 536, in _prepare_linked_requirement\n",
      "    local_file = unpack_url(\n",
      "  File \"C:\\Users\\DELL\\AppData\\Roaming\\Python\\Python38\\site-packages\\pip\\_internal\\operations\\prepare.py\", line 166, in unpack_url\n",
      "    file = get_http_url(\n",
      "  File \"C:\\Users\\DELL\\AppData\\Roaming\\Python\\Python38\\site-packages\\pip\\_internal\\operations\\prepare.py\", line 107, in get_http_url\n",
      "    from_path, content_type = download(link, temp_dir.path)\n",
      "  File \"C:\\Users\\DELL\\AppData\\Roaming\\Python\\Python38\\site-packages\\pip\\_internal\\network\\download.py\", line 147, in __call__\n",
      "    for chunk in chunks:\n",
      "  File \"C:\\Users\\DELL\\AppData\\Roaming\\Python\\Python38\\site-packages\\pip\\_internal\\cli\\progress_bars.py\", line 53, in _rich_progress_bar\n",
      "    for chunk in iterable:\n",
      "  File \"C:\\Users\\DELL\\AppData\\Roaming\\Python\\Python38\\site-packages\\pip\\_internal\\network\\utils.py\", line 63, in response_chunks\n",
      "    for chunk in response.raw.stream(\n",
      "  File \"C:\\Users\\DELL\\AppData\\Roaming\\Python\\Python38\\site-packages\\pip\\_vendor\\urllib3\\response.py\", line 621, in stream\n",
      "    data = self.read(amt=amt, decode_content=decode_content)\n",
      "  File \"C:\\Users\\DELL\\AppData\\Roaming\\Python\\Python38\\site-packages\\pip\\_vendor\\urllib3\\response.py\", line 586, in read\n",
      "    raise IncompleteRead(self._fp_bytes_read, self.length_remaining)\n",
      "  File \"C:\\Users\\DELL\\anaconda3\\lib\\contextlib.py\", line 131, in __exit__\n",
      "    self.gen.throw(type, value, traceback)\n",
      "  File \"C:\\Users\\DELL\\AppData\\Roaming\\Python\\Python38\\site-packages\\pip\\_vendor\\urllib3\\response.py\", line 454, in _error_catcher\n",
      "    raise ProtocolError(\"Connection broken: %r\" % e, e)\n",
      "pip._vendor.urllib3.exceptions.ProtocolError: (\"Connection broken: ConnectionResetError(10054, 'An existing connection was forcibly closed by the remote host', None, 10054, None)\", ConnectionResetError(10054, 'An existing connection was forcibly closed by the remote host', None, 10054, None))\n",
      "\n",
      "[notice] A new release of pip available: 22.3.1 -> 23.0.1\n",
      "[notice] To update, run: python.exe -m pip install --upgrade pip\n"
     ]
    },
    {
     "name": "stdout",
     "output_type": "stream",
     "text": [
      "\n",
      "Requirement already satisfied: numpy>=1.17.3 in c:\\users\\dell\\anaconda3\\lib\\site-packages (from moviepy) (1.20.1)\n",
      "Requirement already satisfied: requests<3.0,>=2.8.1 in c:\\users\\dell\\anaconda3\\lib\\site-packages (from moviepy) (2.28.1)\n",
      "Requirement already satisfied: tqdm<5.0,>=4.11.2 in c:\\users\\dell\\anaconda3\\lib\\site-packages (from moviepy) (4.64.1)\n",
      "Requirement already satisfied: proglog<=1.0.0 in c:\\users\\dell\\anaconda3\\lib\\site-packages (from moviepy) (0.1.10)\n",
      "Collecting imageio<3.0,>=2.5\n",
      "  Downloading imageio-2.26.0-py3-none-any.whl (3.4 MB)\n",
      "     ------------                             1.0/3.4 MB 30.6 kB/s eta 0:01:17\n"
     ]
    }
   ],
   "source": [
    "!pip install moviepy"
   ]
  },
  {
   "cell_type": "code",
   "execution_count": 118,
   "metadata": {
    "colab": {
     "base_uri": "https://localhost:8080/",
     "height": 435
    },
    "id": "yinP6mNszlUv",
    "outputId": "0db0ca0b-2802-479b-d630-daebfec6fa1c"
   },
   "outputs": [
    {
     "name": "stdout",
     "output_type": "stream",
     "text": [
      "Requirement already satisfied: imageio==2.4.1 in c:\\users\\dell\\anaconda3\\lib\\site-packages (2.4.1)\n",
      "Requirement already satisfied: numpy in c:\\users\\dell\\anaconda3\\lib\\site-packages (from imageio==2.4.1) (1.20.1)\n",
      "Requirement already satisfied: pillow in c:\\users\\dell\\anaconda3\\lib\\site-packages (from imageio==2.4.1) (8.2.0)\n"
     ]
    },
    {
     "name": "stderr",
     "output_type": "stream",
     "text": [
      "\n",
      "[notice] A new release of pip available: 22.3.1 -> 23.0.1\n",
      "[notice] To update, run: python.exe -m pip install --upgrade pip\n"
     ]
    }
   ],
   "source": [
    "!pip3 install imageio==2.4.1"
   ]
  },
  {
   "cell_type": "code",
   "execution_count": 119,
   "metadata": {
    "colab": {
     "base_uri": "https://localhost:8080/"
    },
    "id": "jc9956so2F_S",
    "outputId": "e596c98f-efe4-42ee-8351-63a71c9f5b8a"
   },
   "outputs": [
    {
     "name": "stdout",
     "output_type": "stream",
     "text": [
      "Requirement already satisfied: gtts in c:\\users\\dell\\anaconda3\\lib\\site-packages (2.3.0)\n",
      "Requirement already satisfied: click~=8.1.3 in c:\\users\\dell\\anaconda3\\lib\\site-packages (from gtts) (8.1.3)\n",
      "Requirement already satisfied: requests~=2.28.0 in c:\\users\\dell\\anaconda3\\lib\\site-packages (from gtts) (2.28.1)\n",
      "Requirement already satisfied: six~=1.16.0 in c:\\users\\dell\\anaconda3\\lib\\site-packages (from gtts) (1.16.0)\n",
      "Requirement already satisfied: colorama in c:\\users\\dell\\anaconda3\\lib\\site-packages (from click~=8.1.3->gtts) (0.4.4)\n",
      "Requirement already satisfied: charset-normalizer<3,>=2 in c:\\users\\dell\\anaconda3\\lib\\site-packages (from requests~=2.28.0->gtts) (2.0.12)\n",
      "Requirement already satisfied: certifi>=2017.4.17 in c:\\users\\dell\\anaconda3\\lib\\site-packages (from requests~=2.28.0->gtts) (2022.5.18.1)\n",
      "Requirement already satisfied: idna<4,>=2.5 in c:\\users\\dell\\anaconda3\\lib\\site-packages (from requests~=2.28.0->gtts) (2.10)\n",
      "Requirement already satisfied: urllib3<1.27,>=1.21.1 in c:\\users\\dell\\anaconda3\\lib\\site-packages (from requests~=2.28.0->gtts) (1.26.9)\n",
      "Note: you may need to restart the kernel to use updated packages.\n"
     ]
    },
    {
     "name": "stderr",
     "output_type": "stream",
     "text": [
      "\n",
      "[notice] A new release of pip available: 22.3.1 -> 23.0.1\n",
      "[notice] To update, run: python.exe -m pip install --upgrade pip\n"
     ]
    }
   ],
   "source": [
    "pip install gtts"
   ]
  },
  {
   "cell_type": "code",
   "execution_count": 120,
   "metadata": {
    "colab": {
     "base_uri": "https://localhost:8080/"
    },
    "id": "6NKv1SEU0QNC",
    "outputId": "e3104926-473b-4317-e5ba-a4687367c11f"
   },
   "outputs": [
    {
     "name": "stdout",
     "output_type": "stream",
     "text": [
      "Requirement already satisfied: librosa in c:\\users\\dell\\anaconda3\\lib\\site-packages (0.9.2)\n",
      "Requirement already satisfied: packaging>=20.0 in c:\\users\\dell\\anaconda3\\lib\\site-packages (from librosa) (20.9)\n",
      "Requirement already satisfied: scikit-learn>=0.19.1 in c:\\users\\dell\\anaconda3\\lib\\site-packages (from librosa) (1.1.1)\n",
      "Requirement already satisfied: scipy>=1.2.0 in c:\\users\\dell\\anaconda3\\lib\\site-packages (from librosa) (1.6.2)\n",
      "Requirement already satisfied: joblib>=0.14 in c:\\users\\dell\\anaconda3\\lib\\site-packages (from librosa) (1.0.1)\n",
      "Note: you may need to restart the kernel to use updated packages.Requirement already satisfied: numba>=0.45.1 in c:\\users\\dell\\anaconda3\\lib\\site-packages (from librosa) (0.53.1)\n",
      "\n"
     ]
    },
    {
     "name": "stderr",
     "output_type": "stream",
     "text": [
      "\n",
      "[notice] A new release of pip available: 22.3.1 -> 23.0.1\n",
      "[notice] To update, run: python.exe -m pip install --upgrade pip\n"
     ]
    },
    {
     "name": "stdout",
     "output_type": "stream",
     "text": [
      "Requirement already satisfied: numpy>=1.17.0 in c:\\users\\dell\\anaconda3\\lib\\site-packages (from librosa) (1.20.1)\n",
      "Requirement already satisfied: soundfile>=0.10.2 in c:\\users\\dell\\anaconda3\\lib\\site-packages (from librosa) (0.11.0)\n",
      "Requirement already satisfied: resampy>=0.2.2 in c:\\users\\dell\\anaconda3\\lib\\site-packages (from librosa) (0.4.2)\n",
      "Requirement already satisfied: audioread>=2.1.9 in c:\\users\\dell\\anaconda3\\lib\\site-packages (from librosa) (3.0.0)\n",
      "Requirement already satisfied: decorator>=4.0.10 in c:\\users\\dell\\anaconda3\\lib\\site-packages (from librosa) (4.4.2)\n",
      "Requirement already satisfied: pooch>=1.0 in c:\\users\\dell\\anaconda3\\lib\\site-packages (from librosa) (1.6.0)\n",
      "Requirement already satisfied: setuptools in c:\\users\\dell\\anaconda3\\lib\\site-packages (from numba>=0.45.1->librosa) (62.3.2)\n",
      "Requirement already satisfied: llvmlite<0.37,>=0.36.0rc1 in c:\\users\\dell\\anaconda3\\lib\\site-packages (from numba>=0.45.1->librosa) (0.36.0)\n",
      "Requirement already satisfied: pyparsing>=2.0.2 in c:\\users\\dell\\anaconda3\\lib\\site-packages (from packaging>=20.0->librosa) (2.4.7)\n",
      "Requirement already satisfied: appdirs>=1.3.0 in c:\\users\\dell\\anaconda3\\lib\\site-packages (from pooch>=1.0->librosa) (1.4.4)\n",
      "Requirement already satisfied: requests>=2.19.0 in c:\\users\\dell\\anaconda3\\lib\\site-packages (from pooch>=1.0->librosa) (2.28.1)\n",
      "Requirement already satisfied: threadpoolctl>=2.0.0 in c:\\users\\dell\\anaconda3\\lib\\site-packages (from scikit-learn>=0.19.1->librosa) (2.1.0)\n",
      "Requirement already satisfied: cffi>=1.0 in c:\\users\\dell\\anaconda3\\lib\\site-packages (from soundfile>=0.10.2->librosa) (1.14.5)\n",
      "Requirement already satisfied: pycparser in c:\\users\\dell\\anaconda3\\lib\\site-packages (from cffi>=1.0->soundfile>=0.10.2->librosa) (2.20)\n",
      "Requirement already satisfied: charset-normalizer<3,>=2 in c:\\users\\dell\\anaconda3\\lib\\site-packages (from requests>=2.19.0->pooch>=1.0->librosa) (2.0.12)\n",
      "Requirement already satisfied: idna<4,>=2.5 in c:\\users\\dell\\anaconda3\\lib\\site-packages (from requests>=2.19.0->pooch>=1.0->librosa) (2.10)\n",
      "Requirement already satisfied: certifi>=2017.4.17 in c:\\users\\dell\\anaconda3\\lib\\site-packages (from requests>=2.19.0->pooch>=1.0->librosa) (2022.5.18.1)\n",
      "Requirement already satisfied: urllib3<1.27,>=1.21.1 in c:\\users\\dell\\anaconda3\\lib\\site-packages (from requests>=2.19.0->pooch>=1.0->librosa) (1.26.9)\n"
     ]
    }
   ],
   "source": [
    "pip install librosa"
   ]
  },
  {
   "cell_type": "code",
   "execution_count": 121,
   "metadata": {
    "colab": {
     "base_uri": "https://localhost:8080/"
    },
    "id": "TEOpdhH818Jz",
    "outputId": "76c44797-5bc1-4c0f-dbb6-bbb4f872d4b8"
   },
   "outputs": [
    {
     "name": "stdout",
     "output_type": "stream",
     "text": [
      "Requirement already satisfied: englisttohindi in c:\\users\\dell\\anaconda3\\lib\\site-packages (4.1.0)\n",
      "Requirement already satisfied: bs4 in c:\\users\\dell\\anaconda3\\lib\\site-packages (from englisttohindi) (0.0.1)\n",
      "Requirement already satisfied: pandas in c:\\users\\dell\\anaconda3\\lib\\site-packages (from englisttohindi) (1.2.4)\n",
      "Requirement already satisfied: requests in c:\\users\\dell\\anaconda3\\lib\\site-packages (from englisttohindi) (2.28.1)\n",
      "Requirement already satisfied: beautifulsoup4 in c:\\users\\dell\\anaconda3\\lib\\site-packages (from bs4->englisttohindi) (4.9.3)\n",
      "Requirement already satisfied: pytz>=2017.3 in c:\\users\\dell\\anaconda3\\lib\\site-packages (from pandas->englisttohindi) (2021.1)\n",
      "Requirement already satisfied: numpy>=1.16.5 in c:\\users\\dell\\anaconda3\\lib\\site-packages (from pandas->englisttohindi) (1.20.1)\n",
      "Requirement already satisfied: python-dateutil>=2.7.3 in c:\\users\\dell\\anaconda3\\lib\\site-packages (from pandas->englisttohindi) (2.8.1)\n",
      "Requirement already satisfied: idna<4,>=2.5 in c:\\users\\dell\\anaconda3\\lib\\site-packages (from requests->englisttohindi) (2.10)\n",
      "Requirement already satisfied: urllib3<1.27,>=1.21.1 in c:\\users\\dell\\anaconda3\\lib\\site-packages (from requests->englisttohindi) (1.26.9)\n",
      "Requirement already satisfied: certifi>=2017.4.17 in c:\\users\\dell\\anaconda3\\lib\\site-packages (from requests->englisttohindi) (2022.5.18.1)\n",
      "Requirement already satisfied: charset-normalizer<3,>=2 in c:\\users\\dell\\anaconda3\\lib\\site-packages (from requests->englisttohindi) (2.0.12)\n",
      "Requirement already satisfied: six>=1.5 in c:\\users\\dell\\anaconda3\\lib\\site-packages (from python-dateutil>=2.7.3->pandas->englisttohindi) (1.16.0)\n",
      "Requirement already satisfied: soupsieve>1.2 in c:\\users\\dell\\anaconda3\\lib\\site-packages (from beautifulsoup4->bs4->englisttohindi) (2.2.1)\n",
      "Note: you may need to restart the kernel to use updated packages.\n"
     ]
    },
    {
     "name": "stderr",
     "output_type": "stream",
     "text": [
      "\n",
      "[notice] A new release of pip available: 22.3.1 -> 23.0.1\n",
      "[notice] To update, run: python.exe -m pip install --upgrade pip\n"
     ]
    }
   ],
   "source": [
    "pip install englisttohindi"
   ]
  },
  {
   "cell_type": "code",
   "execution_count": 6,
   "metadata": {
    "scrolled": true
   },
   "outputs": [
    {
     "name": "stdout",
     "output_type": "stream",
     "text": [
      "Requirement already satisfied: pip in c:\\users\\dell\\appdata\\roaming\\python\\python38\\site-packages (22.3.1)\n",
      "Collecting pip\n"
     ]
    },
    {
     "name": "stderr",
     "output_type": "stream",
     "text": [
      "ERROR: To modify pip, please run the following command:\n",
      "C:\\Users\\DELL\\anaconda3\\python.exe -m pip install --upgrade pip\n",
      "\n",
      "[notice] A new release of pip available: 22.3.1 -> 23.0.1\n",
      "[notice] To update, run: python.exe -m pip install --upgrade pip\n"
     ]
    },
    {
     "name": "stdout",
     "output_type": "stream",
     "text": [
      "  Using cached pip-23.0.1-py3-none-any.whl (2.1 MB)\n"
     ]
    }
   ],
   "source": [
    "!pip install --upgrade pip"
   ]
  },
  {
   "cell_type": "code",
   "execution_count": 122,
   "metadata": {},
   "outputs": [
    {
     "name": "stdout",
     "output_type": "stream",
     "text": [
      "Requirement already satisfied: SpeechRecognition in c:\\users\\dell\\anaconda3\\lib\\site-packages (3.9.0)\n",
      "Requirement already satisfied: requests>=2.26.0 in c:\\users\\dell\\anaconda3\\lib\\site-packages (from SpeechRecognition) (2.28.1)\n",
      "Requirement already satisfied: charset-normalizer<3,>=2 in c:\\users\\dell\\anaconda3\\lib\\site-packages (from requests>=2.26.0->SpeechRecognition) (2.0.12)\n",
      "Requirement already satisfied: idna<4,>=2.5 in c:\\users\\dell\\anaconda3\\lib\\site-packages (from requests>=2.26.0->SpeechRecognition) (2.10)\n",
      "Requirement already satisfied: certifi>=2017.4.17 in c:\\users\\dell\\anaconda3\\lib\\site-packages (from requests>=2.26.0->SpeechRecognition) (2022.5.18.1)\n",
      "Requirement already satisfied: urllib3<1.27,>=1.21.1 in c:\\users\\dell\\anaconda3\\lib\\site-packages (from requests>=2.26.0->SpeechRecognition) (1.26.9)\n",
      "Note: you may need to restart the kernel to use updated packages.\n"
     ]
    },
    {
     "name": "stderr",
     "output_type": "stream",
     "text": [
      "\n",
      "[notice] A new release of pip available: 22.3.1 -> 23.0.1\n",
      "[notice] To update, run: python.exe -m pip install --upgrade pip\n"
     ]
    }
   ],
   "source": [
    "pip install SpeechRecognition"
   ]
  },
  {
   "cell_type": "code",
   "execution_count": 124,
   "metadata": {},
   "outputs": [
    {
     "name": "stdout",
     "output_type": "stream",
     "text": [
      "{'af': 'afrikaans', 'sq': 'albanian', 'am': 'amharic', 'ar': 'arabic', 'hy': 'armenian', 'az': 'azerbaijani', 'eu': 'basque', 'be': 'belarusian', 'bn': 'bengali', 'bs': 'bosnian', 'bg': 'bulgarian', 'ca': 'catalan', 'ceb': 'cebuano', 'ny': 'chichewa', 'zh-cn': 'chinese (simplified)', 'zh-tw': 'chinese (traditional)', 'co': 'corsican', 'hr': 'croatian', 'cs': 'czech', 'da': 'danish', 'nl': 'dutch', 'en': 'english', 'eo': 'esperanto', 'et': 'estonian', 'tl': 'filipino', 'fi': 'finnish', 'fr': 'french', 'fy': 'frisian', 'gl': 'galician', 'ka': 'georgian', 'de': 'german', 'el': 'greek', 'gu': 'gujarati', 'ht': 'haitian creole', 'ha': 'hausa', 'haw': 'hawaiian', 'iw': 'hebrew', 'he': 'hebrew', 'hi': 'hindi', 'hmn': 'hmong', 'hu': 'hungarian', 'is': 'icelandic', 'ig': 'igbo', 'id': 'indonesian', 'ga': 'irish', 'it': 'italian', 'ja': 'japanese', 'jw': 'javanese', 'kn': 'kannada', 'kk': 'kazakh', 'km': 'khmer', 'ko': 'korean', 'ku': 'kurdish (kurmanji)', 'ky': 'kyrgyz', 'lo': 'lao', 'la': 'latin', 'lv': 'latvian', 'lt': 'lithuanian', 'lb': 'luxembourgish', 'mk': 'macedonian', 'mg': 'malagasy', 'ms': 'malay', 'ml': 'malayalam', 'mt': 'maltese', 'mi': 'maori', 'mr': 'marathi', 'mn': 'mongolian', 'my': 'myanmar (burmese)', 'ne': 'nepali', 'no': 'norwegian', 'or': 'odia', 'ps': 'pashto', 'fa': 'persian', 'pl': 'polish', 'pt': 'portuguese', 'pa': 'punjabi', 'ro': 'romanian', 'ru': 'russian', 'sm': 'samoan', 'gd': 'scots gaelic', 'sr': 'serbian', 'st': 'sesotho', 'sn': 'shona', 'sd': 'sindhi', 'si': 'sinhala', 'sk': 'slovak', 'sl': 'slovenian', 'so': 'somali', 'es': 'spanish', 'su': 'sundanese', 'sw': 'swahili', 'sv': 'swedish', 'tg': 'tajik', 'ta': 'tamil', 'te': 'telugu', 'th': 'thai', 'tr': 'turkish', 'uk': 'ukrainian', 'ur': 'urdu', 'ug': 'uyghur', 'uz': 'uzbek', 'vi': 'vietnamese', 'cy': 'welsh', 'xh': 'xhosa', 'yi': 'yiddish', 'yo': 'yoruba', 'zu': 'zulu'}\n"
     ]
    }
   ],
   "source": [
    "import googletrans\n",
    "print(googletrans.LANGUAGES) "
   ]
  },
  {
   "cell_type": "code",
   "execution_count": 125,
   "metadata": {},
   "outputs": [],
   "source": [
    "import pyttsx3"
   ]
  },
  {
   "cell_type": "code",
   "execution_count": 126,
   "metadata": {
    "colab": {
     "base_uri": "https://localhost:8080/"
    },
    "id": "PVd2yrAFzsS0",
    "outputId": "eacbefdc-a28b-449e-8b69-13a189c5e2fa"
   },
   "outputs": [],
   "source": [
    "import wave, math, contextlib\n",
    "import speech_recognition as sr\n",
    "from moviepy.editor import concatenate_audioclips, AudioFileClip\n",
    "from gtts import gTTS\n",
    "import os\n",
    "from moviepy.editor import *\n",
    "import moviepy.editor as mp\n",
    "import librosa\n",
    "import codecs"
   ]
  },
  {
   "cell_type": "code",
   "execution_count": 228,
   "metadata": {
    "colab": {
     "base_uri": "https://localhost:8080/"
    },
    "id": "6rbwHL9Kyq0o",
    "outputId": "2c349724-61e7-41bc-f3b2-fb1f0cfc0805"
   },
   "outputs": [
    {
     "name": "stdout",
     "output_type": "stream",
     "text": [
      "MoviePy - Writing audio in E:\\YouTube\\trim_youtube\\bengali_fake\\audio.wav\n"
     ]
    },
    {
     "name": "stderr",
     "output_type": "stream",
     "text": [
      "                                                                                                                       "
     ]
    },
    {
     "name": "stdout",
     "output_type": "stream",
     "text": [
      "MoviePy - Done.\n"
     ]
    },
    {
     "name": "stderr",
     "output_type": "stream",
     "text": [
      "\r"
     ]
    }
   ],
   "source": [
    "# extracting audio and video\n",
    "from pydub import AudioSegment\n",
    "video = mp.VideoFileClip(r\"E:\\YouTube\\trim_youtube\\bengali_fake\\lan_31.mp4\")\n",
    "audio = video.audio\n",
    "audio.write_audiofile(r\"E:\\YouTube\\trim_youtube\\bengali_fake\\audio.wav\")\n",
    "# print(librosa.get_duration(filename=r\"E:\\YouTube\\trim_youtube\\audio.wav\"))\n",
    "# sound = AudioSegment.from_mp3(r\"E:\\YouTube\\trim_youtube\\audio.wav\")\n",
    "# StrtMin = 0\n",
    "# StrtSec = 0\n",
    "# EndMin = 0\n",
    "# EndSec = 8\n",
    "# # Time to milliseconds conversion\n",
    "# StrtTime = StrtMin*60*1000+StrtSec*1000\n",
    "# EndTime = StrtMin*60*1000+EndSec*1000\n",
    "# extract1=sound[:4*1000]\n",
    "# extract2=sound[5000:]\n",
    "# sound.export(\"extract.mp3\", format=\"mp3\")\n",
    "\n",
    "# halfway_point = len(sound) // 2\n",
    "# first_half = sound[:halfway_point]\n",
    "\n",
    "# # create a new file \"first_half.mp3\":\n",
    "# first_half.export(\"/path/to/first_half.mp3\", format=\"mp3\")"
   ]
  },
  {
   "cell_type": "code",
   "execution_count": 237,
   "metadata": {
    "scrolled": true
   },
   "outputs": [
    {
     "name": "stdout",
     "output_type": "stream",
     "text": [
      "MoviePy - Writing audio in E:\\YouTube\\trim_youtube\\bengali_fake\\audio.wav\n"
     ]
    },
    {
     "name": "stderr",
     "output_type": "stream",
     "text": [
      "                                                                                                                       \r"
     ]
    },
    {
     "name": "stdout",
     "output_type": "stream",
     "text": [
      "MoviePy - Done.\n",
      "result2:\n",
      "{   'alternative': [   {   'confidence': 0.71045047,\n",
      "                           'transcript': 'ভাঙতে তো হইছে মানে আমি এরকম চরিত্র '\n",
      "                                         'আগে করিনি'},\n",
      "                       {'transcript': 'ভাঙতে তো হইছে'},\n",
      "                       {   'transcript': 'ভাঙতে তো হইছে মানে আমি এরকম চরিত্র '\n",
      "                                         'আগে করিনি।'},\n",
      "                       {'transcript': 'ভাঙতে তো হইছে।'},\n",
      "                       {'transcript': 'ভাঙতে তো হইছে মানে আমি এরকম চরিত্র'}],\n",
      "    'final': True}\n",
      "I have not done such a character before\n"
     ]
    }
   ],
   "source": [
    "from deep_translator import GoogleTranslator\n",
    "transcribed_audio_file_name = r\"E:\\YouTube\\trim_youtube\\bengali_fake\\audio.wav\"\n",
    "zoom_video_file_name = r\"E:\\YouTube\\trim_youtube\\bengali_fake\\lan_34.mp4\"\n",
    "audioclip = AudioFileClip(zoom_video_file_name)\n",
    "audioclip.write_audiofile(transcribed_audio_file_name)\n",
    "with contextlib.closing(wave.open(transcribed_audio_file_name,'r')) as f:\n",
    "    frames = f.getnframes()\n",
    "    rate = f.getframerate()\n",
    "    duration = frames / float(rate)\n",
    "total_duration = math.ceil(duration / 60)\n",
    "r = sr.Recognizer()\n",
    "for i in range(0, total_duration):\n",
    "    with sr.AudioFile(transcribed_audio_file_name) as source:\n",
    "        audio = r.record(source, offset=i*60, duration=60)\n",
    "        Query = r.recognize_google(audio, language='bn')\n",
    "    with open(r\"E:\\YouTube\\trim_youtube\\bengali_fake\\transcription.txt\", \"w\", encoding=\"utf-8\") as f:\n",
    "        f.write(Query)\n",
    "f.close()\n",
    "\n",
    "\n",
    "with open(r\"E:\\YouTube\\trim_youtube\\bengali_fake\\transcription.txt\", encoding='utf-8') as f:\n",
    "    sentences = f.readlines()\n",
    "    \n",
    "for sentence in sentences:\n",
    "    translated_text = GoogleTranslator(source='auto', target='en').translate(sentence)\n",
    "    print(translated_text)\n",
    "    \n",
    "# Generating english transcript\n",
    "with open(r\"E:\\YouTube\\trim_youtube\\bengali_fake\\transcription.txt\", \"w\", encoding=\"utf-8\") as f:\n",
    "    f.write(translated_text)\n",
    "    \n"
   ]
  },
  {
   "cell_type": "code",
   "execution_count": 238,
   "metadata": {
    "scrolled": true
   },
   "outputs": [
    {
     "name": "stdout",
     "output_type": "stream",
     "text": [
      "এই চরিত্রটি আমার কাছে নতুন। আমি আগে এটা করিনি। আমি আমার জন্য সেরা আশা.\n"
     ]
    }
   ],
   "source": [
    "# English to other lang\n",
    "\n",
    "with open(r\"E:\\YouTube\\trim_youtube\\bengali_fake\\transcription.txt\", encoding='utf-8') as f:\n",
    "    sentences = f.readlines()\n",
    "\n",
    "for sentence in sentences:\n",
    "    translated_text = GoogleTranslator(source='auto', target='bn').translate(sentence)\n",
    "    print(translated_text)\n",
    "    \n",
    "with open(r\"E:\\YouTube\\trim_youtube\\bengali_fake\\transcription.txt\", \"w\", encoding=\"utf-8\") as f:\n",
    "    f.write(translated_text)"
   ]
  },
  {
   "cell_type": "code",
   "execution_count": 11,
   "metadata": {},
   "outputs": [
    {
     "name": "stdout",
     "output_type": "stream",
     "text": [
      "Voice: Microsoft David Desktop - English (United States)\n",
      " - ID: HKEY_LOCAL_MACHINE\\SOFTWARE\\Microsoft\\Speech\\Voices\\Tokens\\TTS_MS_EN-US_DAVID_11.0\n",
      " - Languages: []\n",
      " - Gender: None\n",
      " - Age: None\n",
      "\n",
      "\n",
      "Voice: Microsoft Zira Desktop - English (United States)\n",
      " - ID: HKEY_LOCAL_MACHINE\\SOFTWARE\\Microsoft\\Speech\\Voices\\Tokens\\TTS_MS_EN-US_ZIRA_11.0\n",
      " - Languages: []\n",
      " - Gender: None\n",
      " - Age: None\n",
      "\n",
      "\n"
     ]
    }
   ],
   "source": [
    "engine = pyttsx3.init()\n",
    "engine.setProperty('rate', 150)\n",
    "engine.getProperty('volume')\n",
    "voices = engine.getProperty('voices')\n",
    "for voice in voices:\n",
    "    print(\"Voice: %s\" % voice.name)\n",
    "    print(\" - ID: %s\" % voice.id)\n",
    "    print(\" - Languages: %s\" % voice.languages)\n",
    "    print(\" - Gender: %s\" % voice.gender)\n",
    "    print(\" - Age: %s\" % voice.age)\n",
    "    print(\"\\n\")"
   ]
  },
  {
   "cell_type": "code",
   "execution_count": 12,
   "metadata": {},
   "outputs": [
    {
     "name": "stdout",
     "output_type": "stream",
     "text": [
      "Voice:\n",
      "ID: HKEY_LOCAL_MACHINE\\SOFTWARE\\Microsoft\\Speech\\Voices\\Tokens\\TTS_MS_EN-US_DAVID_11.0\n",
      "Name: Microsoft David Desktop - English (United States)\n",
      "Age: None\n",
      "Gender: None\n",
      "Languages Known: []\n",
      "Voice:\n",
      "ID: HKEY_LOCAL_MACHINE\\SOFTWARE\\Microsoft\\Speech\\Voices\\Tokens\\TTS_MS_EN-US_ZIRA_11.0\n",
      "Name: Microsoft Zira Desktop - English (United States)\n",
      "Age: None\n",
      "Gender: None\n",
      "Languages Known: []\n"
     ]
    }
   ],
   "source": [
    "converter = pyttsx3.init(\"sapi5\")\n",
    "voices = converter.getProperty('voices')\n",
    "\n",
    "for voice in voices:\n",
    "    # to get the info. about various voices in our PC \n",
    "    print(\"Voice:\")\n",
    "    print(\"ID: %s\" %voice.id)\n",
    "    print(\"Name: %s\" %voice.name)\n",
    "    print(\"Age: %s\" %voice.age)\n",
    "    print(\"Gender: %s\" %voice.gender)\n",
    "    print(\"Languages Known: %s\" %voice.languages)"
   ]
  },
  {
   "cell_type": "code",
   "execution_count": 28,
   "metadata": {},
   "outputs": [],
   "source": [
    "voice_id = \"HKEY_LOCAL_MACHINE\\SOFTWARE\\Microsoft\\Speech\\Voices\\Tokens\\TTS_MS_EN-US_ZIRA_11.0\"\n",
    "  \n",
    "# Use female voice\n",
    "converter.setProperty('voice', voice_id)\n",
    "converter.setProperty('rate', 150)\n",
    "# Set volume 0-1\n",
    "converter.setProperty('volume', 0.7)\n",
    "# converter.setProperty(\"voice\", voices[2].id)\n",
    "with open(r\"E:\\YouTube\\trim_youtube\\spanish_fake\\transcription.txt\", encoding='utf-8') as f:\n",
    "    text = f.readlines()\n",
    "# converter.say(text)\n",
    "converter.save_to_file(text, r\"E:\\YouTube\\trim_youtube\\spanish_fake\\audio1.wav\")\n",
    "converter.runAndWait()"
   ]
  },
  {
   "cell_type": "code",
   "execution_count": 239,
   "metadata": {
    "colab": {
     "base_uri": "https://localhost:8080/"
    },
    "id": "HhKsrYPF4eAt",
    "outputId": "06dc0133-8f60-4f60-da66-2aa3681ba06a",
    "scrolled": true
   },
   "outputs": [
    {
     "name": "stdout",
     "output_type": "stream",
     "text": [
      "Moviepy - Building video E:\\YouTube\\trim_youtube\\bengali_fake\\bengali_fake_final\\lan_34.mp4.\n",
      "MoviePy - Writing audio in lan_34TEMP_MPY_wvf_snd.mp3\n"
     ]
    },
    {
     "name": "stderr",
     "output_type": "stream",
     "text": [
      "                                                                                                                       \r"
     ]
    },
    {
     "name": "stdout",
     "output_type": "stream",
     "text": [
      "MoviePy - Done.\n",
      "Moviepy - Writing video E:\\YouTube\\trim_youtube\\bengali_fake\\bengali_fake_final\\lan_34.mp4\n",
      "\n"
     ]
    },
    {
     "name": "stderr",
     "output_type": "stream",
     "text": [
      "                                                                                                                       \r"
     ]
    },
    {
     "name": "stdout",
     "output_type": "stream",
     "text": [
      "Moviepy - Done !\n",
      "Moviepy - video ready E:\\YouTube\\trim_youtube\\bengali_fake\\bengali_fake_final\\lan_34.mp4\n"
     ]
    }
   ],
   "source": [
    "# Merge Audio and video\n",
    "audio = mp.AudioFileClip(r\"E:\\YouTube\\trim_youtube\\bengali_fake\\audio1.mp3\")\n",
    "video = mp.VideoFileClip( r\"E:\\YouTube\\trim_youtube\\bengali_fake\\lan_34.mp4\")\n",
    "# print(librosa.get_duration(filename=r\"E:\\YouTube\\trim_youtube_fake\\1.mp4\"))\n",
    "video=video.subclip(0, librosa.get_duration(filename=r\"E:\\YouTube\\trim_youtube\\bengali_fake\\audio1.mp3\"))\n",
    "final_video = video.set_audio(audio)\n",
    "final_video.write_videofile( r\"E:\\YouTube\\trim_youtube\\bengali_fake\\bengali_fake_final\\lan_34.mp4\")"
   ]
  },
  {
   "cell_type": "code",
   "execution_count": 37,
   "metadata": {},
   "outputs": [],
   "source": [
    "os.remove(r\"E:\\YouTube\\trim_youtube\\spanish_fake\\audio1.wav\")\n",
    "os.remove(r\"E:\\YouTube\\trim_youtube\\spanish_fake\\audio.wav\")"
   ]
  },
  {
   "cell_type": "code",
   "execution_count": 4,
   "metadata": {},
   "outputs": [],
   "source": [
    "# # Text to speech\n",
    "# with open(r\"E:\\YouTube\\trim_youtube\\transcription.txt\", encoding='utf-8') as f:\n",
    "#     text = f.readlines()\n",
    "# text = ' '.join([str(elem) for elem in text])\n",
    "# myobj = gTTS(text=text, lang='hi', slow=False)\n",
    "# myobj.save(r\"E:\\YouTube\\trim_youtube\\audio.mp3\")"
   ]
  },
  {
   "cell_type": "code",
   "execution_count": 10,
   "metadata": {
    "id": "i-RC9ZFRyxbA"
   },
   "outputs": [],
   "source": [
    "# def eng_to_hindi():\n",
    "#     with open(r\"E:\\YouTube\\trim_youtube\\transcription.txt\") as f:\n",
    "#         lines = f.readlines()\n",
    "#     trans = EngtoHindi(lines)\n",
    "#     res = trans.convert\n",
    "#     myobj = gTTS(text=res, lang='en', slow=False)\n",
    "#     myobj.save(r\"E:\\YouTube\\trim_youtube\\audio.wav\")\n",
    "\n",
    "# eng_to_hindi()\n"
   ]
  },
  {
   "cell_type": "code",
   "execution_count": 13,
   "metadata": {
    "id": "rLktbDBu2ZHb"
   },
   "outputs": [],
   "source": [
    "# extract2 = AudioSegment.from_mp3(\"/content/sample_data/extract.mp3\")\n",
    "# combined = extract1 + extract2\n",
    "\n",
    "# file_handle = combined.export(\"/content/sample_data/audio.mp3\", format=\"mp3\")"
   ]
  },
  {
   "cell_type": "code",
   "execution_count": 105,
   "metadata": {},
   "outputs": [],
   "source": [
    "# # english to hindi\n",
    "\n",
    "# transcribed_audio_file_name = r\"E:\\YouTube\\trim_youtube\\audio.wav\"\n",
    "# zoom_video_file_name = r\"E:\\YouTube\\trim_youtube\\1.mp4\"\n",
    "# audioclip = AudioFileClip(zoom_video_file_name)\n",
    "# audioclip.write_audiofile(transcribed_audio_file_name)\n",
    "# with contextlib.closing(wave.open(transcribed_audio_file_name,'r')) as f:\n",
    "#     frames = f.getnframes()\n",
    "#     rate = f.getframerate()\n",
    "#     duration = frames / float(rate)\n",
    "# total_duration = math.ceil(duration / 60)\n",
    "# r = sr.Recognizer()\n",
    "# for i in range(0, total_duration):\n",
    "#     with sr.AudioFile(transcribed_audio_file_name) as source:\n",
    "#         audio = r.record(source, offset=i*60, duration=60)\n",
    "#     f = open(r\"E:\\YouTube\\trim_youtube\\transcription.txt\", \"w\",encoding=\"utf-8\")\n",
    "#     f.write(r.recognize_google(audio,language = \"hi-IN\"))\n",
    "#     f.write(\" \")\n",
    "# f.close()"
   ]
  },
  {
   "cell_type": "code",
   "execution_count": 106,
   "metadata": {
    "id": "pA5PWoVw5wL6"
   },
   "outputs": [],
   "source": [
    "# with open(r\"E:\\YouTube\\trim_youtube\\transcription.txt\") as f:\n",
    "#     lines = f.readlines()\n",
    "#     print(lines)\n",
    "#     string = ' '.join([str(elem) for elem in lines])\n",
    "#     f.close()\n",
    "# myobj = gTTS(text=string, lang='en', slow=False)\n",
    "# myobj.save(r\"E:\\YouTube\\trim_youtube\\audio.wav\")\n",
    "#     # os.system(\"mpg321 welcome.mp3\")\n",
    "# #     mytext_hindi=\"geeksforgeeks में आपका स्वागत है\"\n",
    "# #     myobj = gTTS(text=mytext_hindi, lang='hi', slow=False)\n",
    "# #     myobj.save(\"welcome_hindi.mp3\")"
   ]
  },
  {
   "cell_type": "code",
   "execution_count": 39,
   "metadata": {},
   "outputs": [],
   "source": [
    "# import soundfile as sf        \n",
    "\n",
    "# wav, samplerate = sf.read(r\"E:\\YouTube\\trim_youtube\\audio.wav\")\n",
    "# sf.write(r\"E:\\YouTube\\audio.wav\", wav, samplerate)"
   ]
  },
  {
   "cell_type": "code",
   "execution_count": null,
   "metadata": {},
   "outputs": [],
   "source": []
  }
 ],
 "metadata": {
  "colab": {
   "provenance": []
  },
  "kernelspec": {
   "display_name": "Python 3",
   "language": "python",
   "name": "python3"
  },
  "language_info": {
   "codemirror_mode": {
    "name": "ipython",
    "version": 3
   },
   "file_extension": ".py",
   "mimetype": "text/x-python",
   "name": "python",
   "nbconvert_exporter": "python",
   "pygments_lexer": "ipython3",
   "version": "3.8.8"
  }
 },
 "nbformat": 4,
 "nbformat_minor": 1
}
